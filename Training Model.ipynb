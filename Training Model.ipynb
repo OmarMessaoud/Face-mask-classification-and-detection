{
 "cells": [
  {
   "cell_type": "code",
   "execution_count": 2,
   "metadata": {},
   "outputs": [],
   "source": [
    "import os\n",
    "import numpy as np\n",
    "import matplotlib.pyplot as plt\n",
    "from tensorflow.keras.layers import AveragePooling2D\n",
    "from tensorflow.keras.layers import Dropout\n",
    "from tensorflow.keras.layers import Flatten\n",
    "from tensorflow.keras.layers import Dense\n",
    "from tensorflow.keras.layers import Input\n",
    "from tensorflow.keras.models import Model\n",
    "from tensorflow.keras.optimizers import Adam\n",
    "from tensorflow.keras.preprocessing.image import ImageDataGenerator\n",
    "from tensorflow.keras.preprocessing.image import img_to_array\n",
    "from tensorflow.keras.preprocessing.image import load_img\n",
    "from tensorflow.keras.applications import MobileNetV2\n",
    "from tensorflow.keras.applications.mobilenet_v2 import preprocess_input\n",
    "from tensorflow.keras.utils import to_categorical\n",
    "from sklearn.preprocessing import LabelBinarizer\n",
    "from sklearn.model_selection import train_test_split\n",
    "from sklearn.metrics import classification_report\n",
    "from imutils import paths"
   ]
  },
  {
   "cell_type": "code",
   "execution_count": 3,
   "metadata": {},
   "outputs": [
    {
     "name": "stderr",
     "output_type": "stream",
     "text": [
      "C:\\Users\\Baraa\\anaconda3\\lib\\site-packages\\PIL\\Image.py:960: UserWarning: Palette images with Transparency expressed in bytes should be converted to RGBA images\n",
      "  \"Palette images with Transparency expressed in bytes should be \"\n"
     ]
    }
   ],
   "source": [
    "Dir = r\"C:\\Users\\Omar\\JupyterProjects\\ML\\Face Mask Detection\" \n",
    "Classes = [\"with_mask\", \"without_mask\"]\n",
    "\n",
    "data, labels = [], []\n",
    "\n",
    "for category in Classes:\n",
    "    path = os.path.join(Dir, category)\n",
    "    for img in os.listdir(path):\n",
    "        img_path = os.path.join(path, img)\n",
    "        image = load_img(img_path, target_size=(224,224))\n",
    "        image = img_to_array(image)\n",
    "        image = preprocess_input(image)\n",
    "        data.append(image)\n",
    "        labels.append(category)"
   ]
  },
  {
   "cell_type": "code",
   "execution_count": 4,
   "metadata": {},
   "outputs": [],
   "source": [
    "LB = LabelBinarizer()\n",
    "labels = LB.fit_transform(labels)\n",
    "labels = to_categorical(labels)"
   ]
  },
  {
   "cell_type": "code",
   "execution_count": 5,
   "metadata": {},
   "outputs": [],
   "source": [
    "data = np.array(data, dtype=\"float32\")\n",
    "labels = np.array(labels)"
   ]
  },
  {
   "cell_type": "code",
   "execution_count": 10,
   "metadata": {},
   "outputs": [
    {
     "name": "stdout",
     "output_type": "stream",
     "text": [
      "[[1. 0.]]\n",
      "[[0. 1.]]\n"
     ]
    }
   ],
   "source": [
    "print(labels[:1])\n",
    "print(labels[4000:4001])"
   ]
  },
  {
   "cell_type": "code",
   "execution_count": 11,
   "metadata": {},
   "outputs": [],
   "source": [
    "(train_x, test_x, train_y, test_y) = train_test_split(data, labels, test_size = 0.30,\n",
    "                                                     stratify=labels, random_state=50)"
   ]
  },
  {
   "cell_type": "code",
   "execution_count": 12,
   "metadata": {},
   "outputs": [],
   "source": [
    "data_aug = ImageDataGenerator(\n",
    "    rotation_range = 20,\n",
    "    zoom_range = 0.15,\n",
    "    width_shift_range = 0.2,\n",
    "    height_shift_range = 0.2,\n",
    "    shear_range = 0.15,\n",
    "    horizontal_flip = True,\n",
    "    fill_mode = \"nearest\"\n",
    ")"
   ]
  },
  {
   "cell_type": "code",
   "execution_count": 13,
   "metadata": {},
   "outputs": [
    {
     "name": "stdout",
     "output_type": "stream",
     "text": [
      "WARNING:tensorflow:`input_shape` is undefined or non-square, or `rows` is not in [96, 128, 160, 192, 224]. Weights for input shape (224, 224) will be loaded as the default.\n",
      "Epoch 1/20\n",
      "165/165 [==============================] - ETA: 0s - loss: 0.2514 - accuracy: 0.8906WARNING:tensorflow:Your input ran out of data; interrupting training. Make sure that your dataset or generator can generate at least `steps_per_epoch * epochs` batches (in this case, 70 batches). You may need to use the repeat() function when building your dataset.\n",
      "165/165 [==============================] - 625s 4s/step - loss: 0.2514 - accuracy: 0.8906 - val_loss: 0.0802 - val_accuracy: 0.9753\n",
      "Epoch 2/20\n",
      "165/165 [==============================] - 191s 1s/step - loss: 0.0791 - accuracy: 0.9737\n",
      "Epoch 3/20\n",
      "165/165 [==============================] - 154s 935ms/step - loss: 0.0614 - accuracy: 0.9775\n",
      "Epoch 4/20\n",
      "165/165 [==============================] - 153s 925ms/step - loss: 0.0487 - accuracy: 0.9857\n",
      "Epoch 5/20\n",
      "165/165 [==============================] - 153s 929ms/step - loss: 0.0500 - accuracy: 0.9831\n",
      "Epoch 6/20\n",
      "165/165 [==============================] - 155s 940ms/step - loss: 0.0425 - accuracy: 0.9840\n",
      "Epoch 7/20\n",
      "165/165 [==============================] - 160s 971ms/step - loss: 0.0359 - accuracy: 0.9865\n",
      "Epoch 8/20\n",
      "165/165 [==============================] - 155s 942ms/step - loss: 0.0345 - accuracy: 0.9895\n",
      "Epoch 9/20\n",
      "165/165 [==============================] - 152s 921ms/step - loss: 0.0317 - accuracy: 0.9897\n",
      "Epoch 10/20\n",
      "165/165 [==============================] - 152s 922ms/step - loss: 0.0329 - accuracy: 0.9893\n",
      "Epoch 11/20\n",
      "165/165 [==============================] - 154s 936ms/step - loss: 0.0322 - accuracy: 0.9874\n",
      "Epoch 12/20\n",
      "165/165 [==============================] - 163s 989ms/step - loss: 0.0297 - accuracy: 0.9907\n",
      "Epoch 13/20\n",
      "165/165 [==============================] - 150s 911ms/step - loss: 0.0252 - accuracy: 0.9920\n",
      "Epoch 14/20\n",
      "165/165 [==============================] - 150s 909ms/step - loss: 0.0239 - accuracy: 0.9926\n",
      "Epoch 15/20\n",
      "165/165 [==============================] - 150s 909ms/step - loss: 0.0228 - accuracy: 0.9901\n",
      "Epoch 16/20\n",
      "165/165 [==============================] - 150s 909ms/step - loss: 0.0252 - accuracy: 0.9920\n",
      "Epoch 17/20\n",
      "165/165 [==============================] - 151s 914ms/step - loss: 0.0247 - accuracy: 0.9922\n",
      "Epoch 18/20\n",
      "165/165 [==============================] - 150s 906ms/step - loss: 0.0239 - accuracy: 0.9924\n",
      "Epoch 19/20\n",
      "165/165 [==============================] - 150s 912ms/step - loss: 0.0190 - accuracy: 0.9935\n",
      "Epoch 20/20\n",
      "165/165 [==============================] - 152s 920ms/step - loss: 0.0248 - accuracy: 0.9916\n"
     ]
    }
   ],
   "source": [
    "#MobileNetV2 network\n",
    "base_model = MobileNetV2(weights=\"imagenet\", include_top=False,\n",
    "                         input_tensor=Input(shape=(224, 224, 3)))\n",
    "\n",
    "#Head of the model\n",
    "head_model = base_model.output\n",
    "head_model = AveragePooling2D(pool_size=(7,7))(head_model)\n",
    "head_model = Flatten(name=\"flatten\")(head_model)\n",
    "head_model = Dense(128, activation=\"relu\")(head_model)\n",
    "head_model = Dropout(0.5)(head_model)\n",
    "head_model = Dense(2, activation=\"softmax\")(head_model)\n",
    "\n",
    "#Form the actual model (connect head and base)\n",
    "model = Model(inputs = base_model.input, \n",
    "              outputs = head_model)\n",
    "\n",
    "#Loop over every layer in the base model and freeze it so that\n",
    "# it will NOT be updated during the first training process\n",
    "for layer in base_model.layers:\n",
    "    layer.trainable = False\n",
    "\n",
    "learning_rate = 1e-4\n",
    "batches = 32\n",
    "epo = 20\n",
    "\n",
    "opt = Adam(lr=learning_rate, decay=learning_rate / epo)\n",
    "model.compile(loss = \"binary_crossentropy\",\n",
    "             optimizer = opt, metrics = [\"accuracy\"])\n",
    "\n",
    "#Train head\n",
    "head = model.fit(\n",
    "    data_aug.flow(train_x, train_y, batch_size = batches),\n",
    "    steps_per_epoch = len(train_x) // batches,\n",
    "    validation_data = (test_x, test_y),\n",
    "    validation_steps = len(test_x) // batches,\n",
    "    epochs = epo\n",
    ")"
   ]
  },
  {
   "cell_type": "code",
   "execution_count": 15,
   "metadata": {},
   "outputs": [],
   "source": [
    "#Make predictions\n",
    "pred = model.predict(test_x, batch_size=batches)"
   ]
  },
  {
   "cell_type": "code",
   "execution_count": 41,
   "metadata": {},
   "outputs": [],
   "source": [
    "#For each image in the testing set we need to find the index of the\n",
    "# label with corresponding largest predicted probability\n",
    "pred = np.argmax(pred, axis=1)"
   ]
  },
  {
   "cell_type": "code",
   "execution_count": 17,
   "metadata": {},
   "outputs": [
    {
     "name": "stdout",
     "output_type": "stream",
     "text": [
      "              precision    recall  f1-score   support\n",
      "\n",
      "   with_mask       0.99      1.00      0.99      1118\n",
      "without_mask       1.00      0.99      0.99      1148\n",
      "\n",
      "    accuracy                           0.99      2266\n",
      "   macro avg       0.99      0.99      0.99      2266\n",
      "weighted avg       0.99      0.99      0.99      2266\n",
      "\n"
     ]
    }
   ],
   "source": [
    "# show a classification report\n",
    "print(classification_report(test_y.argmax(axis=1), pred,\n",
    "                            target_names=LB.classes_))"
   ]
  },
  {
   "cell_type": "code",
   "execution_count": 18,
   "metadata": {},
   "outputs": [],
   "source": [
    "model.save(\"face_mask_classifier.model\", save_format=\"h5\")"
   ]
  },
  {
   "cell_type": "code",
   "execution_count": 35,
   "metadata": {},
   "outputs": [
    {
     "data": {
      "text/plain": [
       "<matplotlib.legend.Legend at 0x1cf4b6fc808>"
      ]
     },
     "execution_count": 35,
     "metadata": {},
     "output_type": "execute_result"
    },
    {
     "data": {
      "image/png": "[encoded data removed]",
      "text/plain": [
       "<Figure size 432x288 with 1 Axes>"
      ]
     },
     "metadata": {},
     "output_type": "display_data"
    }
   ],
   "source": [
    "plt.style.use(\"ggplot\")\n",
    "plt.figure()\n",
    "plt.plot(np.arange(0, epo), head.history[\"loss\"], label=\"Train Loss\")\n",
    "plt.plot(np.arange(0, epo), head.history[\"accuracy\"], label=\"Train Acc\")\n",
    "plt.title(\"Training Loss and Accuracy\")\n",
    "plt.xlabel(\"Epoch Number\")\n",
    "plt.ylabel(\"Loss  |  Accuracy\")\n",
    "plt.legend(loc=\"center left\")\n",
    "# plt.savefig(\"face_mask_plot.png\")"
   ]
  },
  {
   "cell_type": "code",
   "execution_count": null,
   "metadata": {},
   "outputs": [],
   "source": []
  }
 ],
 "metadata": {
  "kernelspec": {
   "display_name": "Python 3",
   "language": "python",
   "name": "python3"
  },
  "language_info": {
   "codemirror_mode": {
    "name": "ipython",
    "version": 3
   },
   "file_extension": ".py",
   "mimetype": "text/x-python",
   "name": "python",
   "nbconvert_exporter": "python",
   "pygments_lexer": "ipython3",
   "version": "3.8.3"
  }
 },
 "nbformat": 4,
 "nbformat_minor": 4
}
